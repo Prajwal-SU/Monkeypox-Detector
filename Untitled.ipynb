{
 "cells": [
  {
   "cell_type": "code",
   "execution_count": 1,
   "id": "a240b32f",
   "metadata": {},
   "outputs": [],
   "source": [
    "import os\n",
    "import glob\n",
    "import numpy as np\n",
    "from keras.applications.imagenet_utils import preprocess_input, decode_predictions\n",
    "from keras.models import load_model\n",
    "from keras.preprocessing import image\n",
    "import PIL\n",
    "import tensorflow as tf\n",
    "from tensorflow import keras\n",
    "from tensorflow.keras import layers\n",
    "from tensorflow.keras.models import Sequential\n",
    "\n",
    "# Flask utils\n",
    "from flask import Flask, render_template, request, redirect, url_for, session\n",
    "from flask_mysqldb import MySQL\n",
    "import MySQLdb.cursors\n",
    "from flask_login import  UserMixin, login_user, LoginManager, login_required, logout_user, current_user\n",
    "from werkzeug.utils import secure_filename\n",
    "from gevent.pywsgi import WSGIServer"
   ]
  },
  {
   "cell_type": "code",
   "execution_count": null,
   "id": "f2596555",
   "metadata": {},
   "outputs": [
    {
     "name": "stdout",
     "output_type": "stream",
     "text": [
      " * Serving Flask app \"__main__\" (lazy loading)\n",
      " * Environment: production\n",
      "\u001b[31m   WARNING: This is a development server. Do not use it in a production deployment.\u001b[0m\n",
      "\u001b[2m   Use a production WSGI server instead.\u001b[0m\n",
      " * Debug mode: off\n"
     ]
    },
    {
     "name": "stderr",
     "output_type": "stream",
     "text": [
      " * Running on http://127.0.0.1:8008/ (Press CTRL+C to quit)\n",
      "127.0.0.1 - - [09/Feb/2023 11:28:58] \"GET / HTTP/1.1\" 200 -\n",
      "127.0.0.1 - - [09/Feb/2023 11:28:58] \"GET /static/css/login.css HTTP/1.1\" 304 -\n",
      "127.0.0.1 - - [09/Feb/2023 11:28:58] \"GET /static/images/login.png HTTP/1.1\" 304 -\n",
      "127.0.0.1 - - [09/Feb/2023 11:28:58] \"GET /static/images/logo.png HTTP/1.1\" 304 -\n",
      "127.0.0.1 - - [09/Feb/2023 11:28:58] \"GET /favicon.ico HTTP/1.1\" 404 -\n",
      "127.0.0.1 - - [09/Feb/2023 11:29:20] \"POST /login HTTP/1.1\" 200 -\n",
      "127.0.0.1 - - [09/Feb/2023 11:29:20] \"GET /static/css/main.css HTTP/1.1\" 304 -\n",
      "127.0.0.1 - - [09/Feb/2023 11:29:27] \"GET /static/js/main.js HTTP/1.1\" 304 -\n",
      "127.0.0.1 - - [09/Feb/2023 11:29:27] \"GET /static/images/b.png HTTP/1.1\" 304 -\n"
     ]
    },
    {
     "name": "stdout",
     "output_type": "stream",
     "text": [
      "1/1 [==============================] - 0s 299ms/step\n"
     ]
    },
    {
     "name": "stderr",
     "output_type": "stream",
     "text": [
      "127.0.0.1 - - [09/Feb/2023 11:31:17] \"POST /predict HTTP/1.1\" 200 -\n",
      "127.0.0.1 - - [09/Feb/2023 11:31:26] \"GET /About HTTP/1.1\" 200 -\n",
      "127.0.0.1 - - [09/Feb/2023 11:31:30] \"GET /base HTTP/1.1\" 200 -\n",
      "127.0.0.1 - - [09/Feb/2023 12:48:36] \"GET /logout HTTP/1.1\" 302 -\n",
      "127.0.0.1 - - [09/Feb/2023 12:48:36] \"GET /login HTTP/1.1\" 200 -\n",
      "127.0.0.1 - - [09/Feb/2023 13:10:33] \"POST /login HTTP/1.1\" 200 -\n"
     ]
    },
    {
     "name": "stdout",
     "output_type": "stream",
     "text": [
      "1/1 [==============================] - 0s 64ms/step\n"
     ]
    },
    {
     "name": "stderr",
     "output_type": "stream",
     "text": [
      "127.0.0.1 - - [09/Feb/2023 13:11:01] \"POST /predict HTTP/1.1\" 200 -\n"
     ]
    }
   ],
   "source": [
    "app = Flask(__name__)\n",
    "\n",
    "app.secret_key = \"super secret key\"\n",
    "app.config['MYSQL_HOST'] = 'localhost'\n",
    "app.config['MYSQL_USER'] = 'root'\n",
    "app.config['MYSQL_PASSWORD'] = ''\n",
    "app.config['MYSQL_DB'] = 'login'\n",
    "mysql = MySQL(app)\n",
    "\n",
    "# Model saved with Keras model.save()\n",
    "MODEL_PATH = 'C:/Users/DELL/Desktop/3rd sem project/monkey.h5'\n",
    "\n",
    "# Load your trained model\n",
    "classifier = load_model(MODEL_PATH)\n",
    "\n",
    "\n",
    "@app.route('/')\n",
    "@app.route('/login', methods =['GET', 'POST'])\n",
    "def login():\n",
    "    msg = ''\n",
    "    if request.method == 'POST' and 'username' in request.form and 'password' in request.form:\n",
    "        username = request.form['username']\n",
    "        password = request.form['password']\n",
    "        cursor = mysql.connection.cursor(MySQLdb.cursors.DictCursor)\n",
    "        cursor.execute('SELECT * FROM accounts WHERE username = % s AND password = % s', (username, password, ))\n",
    "        account = cursor.fetchone()\n",
    "        if account:\n",
    "            session['loggedin'] = True\n",
    "            session['id'] = account['id']\n",
    "            session['username'] = account['username']\n",
    "            msg = 'Logged in successfully !'\n",
    "            return render_template('base.html', msg = msg)\n",
    "        else:\n",
    "            msg = 'Incorrect username / password !'\n",
    "    return render_template('login.html', msg = msg)\n",
    " \n",
    "@app.route('/logout')\n",
    "def logout():\n",
    "    session.pop('loggedin', None)\n",
    "    session.pop('id', None)\n",
    "    session.pop('username', None)\n",
    "    return redirect(url_for('login'))\n",
    "\n",
    "@app.route('/base',methods=['GET', 'POST'])\n",
    "def base():\n",
    "    if session['loggedin']==True:\n",
    "        return render_template('base.html')\n",
    "    else:\n",
    "        return render_template('login.html')\n",
    "\n",
    "@app.route('/About',methods=['GET', 'POST'])\n",
    "def About():\n",
    "    if session['loggedin']==True:\n",
    "        return render_template('About.html')\n",
    "    else:\n",
    "        return render_template('login.html')\n",
    "\n",
    "@app.route('/register', methods =['GET', 'POST'])\n",
    "def register():\n",
    "    msg = ''\n",
    "    if request.method == 'POST' and 'username' in request.form and 'password' in request.form and 'email' in request.form :\n",
    "        username = request.form['username']\n",
    "        password = request.form['password']\n",
    "        email = request.form['email']\n",
    "        cursor = mysql.connection.cursor(MySQLdb.cursors.DictCursor)\n",
    "        cursor.execute('SELECT * FROM accounts WHERE username = % s', (username, ))\n",
    "        account = cursor.fetchone()\n",
    "        if account:\n",
    "            msg = 'Account already exists !'\n",
    "        elif not re.match(r'[^@]+@[^@]+\\.[^@]+', email):\n",
    "            msg = 'Invalid email address !'\n",
    "        elif not re.match(r'[A-Za-z]+', username):\n",
    "            msg = 'Username must contain only characters!'\n",
    "        elif not username or not password or not email:\n",
    "            msg = 'Please fill out the form !'\n",
    "        else:\n",
    "            cursor.execute('INSERT INTO accounts VALUES (NULL, % s, % s, % s)', (username, password, email, ))\n",
    "            mysql.connection.commit()\n",
    "            msg = 'You have successfully registered !'\n",
    "    elif request.method == 'POST':\n",
    "        msg = 'Please fill out the form !'\n",
    "    return render_template('register.html', msg = msg)\n",
    "\n",
    "\n",
    "\n",
    "\n",
    "@app.route('/predict', methods=['GET', 'POST'])\n",
    "def upload():\n",
    "    if request.method == 'POST':\n",
    "        f = request.files['file']\n",
    "        file_path = os.path.join('uploads', secure_filename(f.filename))\n",
    "        f.save(file_path)\n",
    "        test_image = tf.keras.utils.load_img(file_path, target_size = (64, 64))\n",
    "        test_image = tf.keras.utils.img_to_array(test_image)\n",
    "        test_image = np.expand_dims(test_image, axis = 0)\n",
    "        results = classifier.predict(test_image)\n",
    "        if results[0][0] == 1:\n",
    "             result = 'It is not an Monkeypox'\n",
    "        else:\n",
    "             result = 'It is an Monkeypox'\n",
    "        return result\n",
    "    return None\n",
    "\n",
    "if __name__ == '__main__':\n",
    "    app.run(port=8008)\n"
   ]
  },
  {
   "cell_type": "code",
   "execution_count": null,
   "id": "2dd20fed",
   "metadata": {},
   "outputs": [],
   "source": []
  },
  {
   "cell_type": "code",
   "execution_count": null,
   "id": "9bdfce58",
   "metadata": {},
   "outputs": [],
   "source": []
  }
 ],
 "metadata": {
  "kernelspec": {
   "display_name": "Python 3 (ipykernel)",
   "language": "python",
   "name": "python3"
  },
  "language_info": {
   "codemirror_mode": {
    "name": "ipython",
    "version": 3
   },
   "file_extension": ".py",
   "mimetype": "text/x-python",
   "name": "python",
   "nbconvert_exporter": "python",
   "pygments_lexer": "ipython3",
   "version": "3.9.12"
  }
 },
 "nbformat": 4,
 "nbformat_minor": 5
}
